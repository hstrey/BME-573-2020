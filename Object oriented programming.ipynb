{
 "cells": [
  {
   "cell_type": "markdown",
   "metadata": {},
   "source": [
    "Introduction to Object oriented programming"
   ]
  },
  {
   "cell_type": "code",
   "execution_count": 9,
   "metadata": {},
   "outputs": [],
   "source": [
    "class pet():\n",
    "    def __init__(self,name,age):\n",
    "        self.name = name\n",
    "        self.age = age\n",
    "    \n",
    "    def __str__(self):\n",
    "        return \"Pet name is: \"+self.name+\" and age is: \"+str(self.age)\n"
   ]
  },
  {
   "cell_type": "code",
   "execution_count": 15,
   "metadata": {},
   "outputs": [],
   "source": [
    "turing = pet(\"Turing\",3)\n",
    "enigma = pet(\"Enigma\",1)"
   ]
  },
  {
   "cell_type": "code",
   "execution_count": 11,
   "metadata": {},
   "outputs": [
    {
     "name": "stdout",
     "output_type": "stream",
     "text": [
      "Pet name is: Turing and age is: 3\n"
     ]
    }
   ],
   "source": [
    "print(turing)\n",
    "print(enigma)"
   ]
  },
  {
   "cell_type": "code",
   "execution_count": 18,
   "metadata": {},
   "outputs": [
    {
     "data": {
      "text/plain": [
       "'Enigma'"
      ]
     },
     "execution_count": 18,
     "metadata": {},
     "output_type": "execute_result"
    }
   ],
   "source": [
    "print(turing.age)\n",
    "print(enigma.name)"
   ]
  },
  {
   "cell_type": "code",
   "execution_count": 19,
   "metadata": {},
   "outputs": [],
   "source": [
    "turing.name = \"Turing the fierce\""
   ]
  },
  {
   "cell_type": "code",
   "execution_count": 20,
   "metadata": {},
   "outputs": [
    {
     "name": "stdout",
     "output_type": "stream",
     "text": [
      "Pet name is: Turing the fierce and age is: 3\n"
     ]
    }
   ],
   "source": [
    "print(turing)"
   ]
  },
  {
   "cell_type": "code",
   "execution_count": 41,
   "metadata": {},
   "outputs": [],
   "source": [
    "class dog(pet):\n",
    "    def __init__(self,name,age,breed):\n",
    "        super().__init__(name,age)\n",
    "        self.breed = breed\n",
    "    \n",
    "    def __str__(self):\n",
    "        return \"Dog name is: \"+self.name+\", age: \"+str(self.age)+\" and breed is: \"+self.breed\n",
    "    \n",
    "    def bark(self,repeat=3):\n",
    "        print(\"woof \"*repeat)\n"
   ]
  },
  {
   "cell_type": "code",
   "execution_count": 42,
   "metadata": {},
   "outputs": [],
   "source": [
    "turing = dog(\"Turing\",3,\"Corgi\")"
   ]
  },
  {
   "cell_type": "code",
   "execution_count": 43,
   "metadata": {},
   "outputs": [
    {
     "name": "stdout",
     "output_type": "stream",
     "text": [
      "Dog name is: Turing, age: 3 and breed is: Corgi\n"
     ]
    }
   ],
   "source": [
    "print(turing)"
   ]
  },
  {
   "cell_type": "code",
   "execution_count": 45,
   "metadata": {},
   "outputs": [
    {
     "name": "stdout",
     "output_type": "stream",
     "text": [
      "woof woof woof woof \n"
     ]
    }
   ],
   "source": [
    "turing.bark(4)"
   ]
  },
  {
   "cell_type": "code",
   "execution_count": 33,
   "metadata": {},
   "outputs": [],
   "source": [
    "class cat(pet):\n",
    "    def __init__(self,name,age,breed):\n",
    "        pet.__init__(self,name,age)\n",
    "        self.breed = breed\n",
    "    \n",
    "    def __str__(self):\n",
    "        return \"Cat name is: \"+self.name+\", age: \"+str(self.age)+\" and breed is: \"+self.breed\n",
    "    \n",
    "    def miau(self):\n",
    "        print(\"miau\")"
   ]
  },
  {
   "cell_type": "code",
   "execution_count": 35,
   "metadata": {},
   "outputs": [],
   "source": [
    "enigma = cat(\"Enigma\",1,\"Siberian\")"
   ]
  },
  {
   "cell_type": "code",
   "execution_count": 36,
   "metadata": {},
   "outputs": [
    {
     "name": "stdout",
     "output_type": "stream",
     "text": [
      "Cat name is: Enigma, age: 1 and breed is: Siberian\n"
     ]
    }
   ],
   "source": [
    "print(enigma)"
   ]
  },
  {
   "cell_type": "code",
   "execution_count": null,
   "metadata": {},
   "outputs": [],
   "source": []
  }
 ],
 "metadata": {
  "kernelspec": {
   "display_name": "Python 3",
   "language": "python",
   "name": "python3"
  },
  "language_info": {
   "codemirror_mode": {
    "name": "ipython",
    "version": 3
   },
   "file_extension": ".py",
   "mimetype": "text/x-python",
   "name": "python",
   "nbconvert_exporter": "python",
   "pygments_lexer": "ipython3",
   "version": "3.6.10"
  }
 },
 "nbformat": 4,
 "nbformat_minor": 2
}
